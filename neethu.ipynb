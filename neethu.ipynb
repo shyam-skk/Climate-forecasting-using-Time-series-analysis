{
 "cells": [
  {
   "cell_type": "code",
   "execution_count": 81,
   "metadata": {},
   "outputs": [],
   "source": [
    "import pandas as pd\n",
    "from pandas import read_excel\n",
    "import numpy as np\n",
    "import matplotlib.pylab as plt\n",
    "%matplotlib inline\n",
    "import warnings\n",
    "warnings.filterwarnings(\"ignore\")"
   ]
  },
  {
   "cell_type": "code",
   "execution_count": 82,
   "metadata": {},
   "outputs": [],
   "source": [
    "data = read_excel(\"climatic_data_ekm.xlsx\")"
   ]
  },
  {
   "cell_type": "code",
   "execution_count": 83,
   "metadata": {},
   "outputs": [],
   "source": [
    "dfa = pd.read_excel (r'climatic_data_ekm.xlsx')"
   ]
  },
  {
   "cell_type": "code",
   "execution_count": 84,
   "metadata": {},
   "outputs": [
    {
     "name": "stdout",
     "output_type": "stream",
     "text": [
      "********** top 5 of the dataframe *****************\n",
      "   YEAR  MAX.TEM  MIN.TEM  Rainfall_mm  Humidity  Dengue_Cases  Leptospirosis\n",
      "0  2014       32       24         3604        80           192            136\n",
      "1  2015       32       25         3436        79           318            115\n",
      "2  2016       32       25         2891        80           446             65\n",
      "3  2017       32       25         2325        80           510             96\n",
      "4  2018       32       25         2919        80           181             77\n",
      "********** data type of the features *****************\n",
      "YEAR             int64\n",
      "MAX.TEM          int64\n",
      "MIN.TEM          int64\n",
      "Rainfall_mm      int64\n",
      "Humidity         int64\n",
      "Dengue_Cases     int64\n",
      "Leptospirosis    int64\n",
      "dtype: object\n"
     ]
    }
   ],
   "source": [
    "print(\"********** top 5 of the dataframe *****************\")\n",
    "print(data.head())\n",
    "print(\"********** data type of the features *****************\")\n",
    "print(data.dtypes)"
   ]
  },
  {
   "cell_type": "code",
   "execution_count": 85,
   "metadata": {},
   "outputs": [],
   "source": [
    "#df['YEAR'] = pd.to_datetime(df.YEAR , format = '%Y')\n",
    "#data = df.drop(['YEAR'], axis=1)\n",
    "#data.index = df.YEAR"
   ]
  },
  {
   "cell_type": "code",
   "execution_count": 86,
   "metadata": {},
   "outputs": [
    {
     "data": {
      "text/plain": [
       "DatetimeIndex(['2014-01-01', '2015-01-01', '2016-01-01', '2017-01-01',\n",
       "               '2018-01-01'],\n",
       "              dtype='datetime64[ns]', name='YEAR', freq=None)"
      ]
     },
     "execution_count": 86,
     "metadata": {},
     "output_type": "execute_result"
    }
   ],
   "source": [
    "from datetime import datetime\n",
    "con=data['YEAR']\n",
    "data['YEAR']=pd.to_datetime(data['YEAR'], format = '%Y')\n",
    "data.set_index('YEAR', inplace=True)\n",
    "#check datatype of index\n",
    "data.index"
   ]
  },
  {
   "cell_type": "code",
   "execution_count": 87,
   "metadata": {},
   "outputs": [
    {
     "data": {
      "text/plain": [
       "MAX.TEM          int64\n",
       "MIN.TEM          int64\n",
       "Rainfall_mm      int64\n",
       "Humidity         int64\n",
       "Dengue_Cases     int64\n",
       "Leptospirosis    int64\n",
       "dtype: object"
      ]
     },
     "execution_count": 87,
     "metadata": {},
     "output_type": "execute_result"
    }
   ],
   "source": [
    "data.dtypes"
   ]
  },
  {
   "cell_type": "code",
   "execution_count": 88,
   "metadata": {},
   "outputs": [
    {
     "data": {
      "text/plain": [
       "YEAR\n",
       "2014-01-01    32\n",
       "2015-01-01    32\n",
       "2016-01-01    32\n",
       "2017-01-01    32\n",
       "2018-01-01    32\n",
       "Name: MAX.TEM, dtype: int64"
      ]
     },
     "execution_count": 88,
     "metadata": {},
     "output_type": "execute_result"
    }
   ],
   "source": [
    "#convert to time series:\n",
    "ts = data['MAX.TEM']\n",
    "ts.head(10)"
   ]
  },
  {
   "cell_type": "code",
   "execution_count": 89,
   "metadata": {},
   "outputs": [
    {
     "data": {
      "text/plain": [
       "32"
      ]
     },
     "execution_count": 89,
     "metadata": {},
     "output_type": "execute_result"
    }
   ],
   "source": [
    "ts['2014-01-01']"
   ]
  },
  {
   "cell_type": "code",
   "execution_count": 90,
   "metadata": {},
   "outputs": [
    {
     "data": {
      "text/plain": [
       "YEAR\n",
       "2014-01-01    32\n",
       "2015-01-01    32\n",
       "2016-01-01    32\n",
       "2017-01-01    32\n",
       "2018-01-01    32\n",
       "Name: MAX.TEM, dtype: int64"
      ]
     },
     "execution_count": 90,
     "metadata": {},
     "output_type": "execute_result"
    }
   ],
   "source": [
    "ts['2014-01-01':'2018-01-01']"
   ]
  },
  {
   "cell_type": "code",
   "execution_count": 91,
   "metadata": {},
   "outputs": [],
   "source": [
    "from statsmodels.tsa.ar_model import AutoReg\n",
    "from statsmodels.tsa.arima_model import ARIMA\n",
    "from statsmodels.tsa.arima_model import ARIMAResults"
   ]
  },
  {
   "cell_type": "markdown",
   "metadata": {},
   "source": [
    "## Predicting MAX.TEM"
   ]
  },
  {
   "cell_type": "code",
   "execution_count": 92,
   "metadata": {},
   "outputs": [],
   "source": [
    "model = AutoReg(ts, lags=0)\n",
    "model_fit = model.fit()"
   ]
  },
  {
   "cell_type": "code",
   "execution_count": 93,
   "metadata": {},
   "outputs": [
    {
     "name": "stdout",
     "output_type": "stream",
     "text": [
      "2019-01-01    32.0\n",
      "Freq: AS-JAN, dtype: float64\n"
     ]
    }
   ],
   "source": [
    "yhat = model_fit.predict(len(ts), len(ts))\n",
    "print(yhat)"
   ]
  },
  {
   "cell_type": "code",
   "execution_count": 94,
   "metadata": {},
   "outputs": [
    {
     "name": "stdout",
     "output_type": "stream",
     "text": [
      "2019-01-01    32.0\n",
      "Freq: AS-JAN, dtype: float64\n"
     ]
    }
   ],
   "source": [
    "X = ts.astype('float32')\n",
    "model = ARIMA(X, order=(0,1,0))\n",
    "model_fit = model.fit(disp=False)\n",
    "# make prediction\n",
    "yhat = model_fit.predict(len(X), len(X), typ='levels')\n",
    "print(yhat)"
   ]
  },
  {
   "cell_type": "code",
   "execution_count": 95,
   "metadata": {},
   "outputs": [
    {
     "name": "stdout",
     "output_type": "stream",
     "text": [
      "2019-01-01    32.0\n",
      "2020-01-01    32.0\n",
      "2021-01-01    32.0\n",
      "2022-01-01    32.0\n",
      "Freq: AS-JAN, dtype: float64\n"
     ]
    }
   ],
   "source": [
    "start_index = len(X)\n",
    "end_index = start_index + 3\n",
    "forecast = model_fit.predict(start=start_index, end=end_index, typ='levels')\n",
    "print(forecast)"
   ]
  },
  {
   "cell_type": "code",
   "execution_count": 96,
   "metadata": {},
   "outputs": [
    {
     "data": {
      "text/plain": [
       "pandas.core.series.Series"
      ]
     },
     "execution_count": 96,
     "metadata": {},
     "output_type": "execute_result"
    }
   ],
   "source": [
    "type(forecast)"
   ]
  },
  {
   "cell_type": "code",
   "execution_count": 97,
   "metadata": {},
   "outputs": [],
   "source": [
    "dataframe=pd.DataFrame({'YEAR':forecast.index,'MAX.TEM':forecast.values})"
   ]
  },
  {
   "cell_type": "markdown",
   "metadata": {},
   "source": [
    "## Predicting Rainfall_mm"
   ]
  },
  {
   "cell_type": "code",
   "execution_count": 98,
   "metadata": {},
   "outputs": [
    {
     "data": {
      "text/plain": [
       "YEAR\n",
       "2014-01-01    3604\n",
       "2015-01-01    3436\n",
       "2016-01-01    2891\n",
       "2017-01-01    2325\n",
       "2018-01-01    2919\n",
       "Name: Rainfall_mm, dtype: int64"
      ]
     },
     "execution_count": 98,
     "metadata": {},
     "output_type": "execute_result"
    }
   ],
   "source": [
    "ts1 = data['Rainfall_mm']\n",
    "ts1.head(10)"
   ]
  },
  {
   "cell_type": "code",
   "execution_count": 99,
   "metadata": {},
   "outputs": [
    {
     "name": "stdout",
     "output_type": "stream",
     "text": [
      "2019-01-01    2839.20184\n",
      "Freq: AS-JAN, dtype: float64\n"
     ]
    }
   ],
   "source": [
    "model1 = AutoReg(ts1, lags=1)\n",
    "model_fit1 = model1.fit()\n",
    "yhat1 = model_fit1.predict(len(ts1), len(ts1))\n",
    "print(yhat1)"
   ]
  },
  {
   "cell_type": "code",
   "execution_count": 100,
   "metadata": {},
   "outputs": [
    {
     "name": "stdout",
     "output_type": "stream",
     "text": [
      "2019-01-01    2747.75\n",
      "Freq: AS-JAN, dtype: float64\n"
     ]
    }
   ],
   "source": [
    "X = ts1.astype('float32')\n",
    "model = ARIMA(X, order=(0,1,0))\n",
    "model_fit = model.fit(disp=False)\n",
    "# make prediction\n",
    "yhat = model_fit.predict(len(X), len(X), typ='levels')\n",
    "print(yhat)"
   ]
  },
  {
   "cell_type": "code",
   "execution_count": 101,
   "metadata": {},
   "outputs": [
    {
     "name": "stdout",
     "output_type": "stream",
     "text": [
      "2019-01-01    2747.75\n",
      "2020-01-01    2576.50\n",
      "2021-01-01    2405.25\n",
      "2022-01-01    2234.00\n",
      "Freq: AS-JAN, dtype: float64\n"
     ]
    }
   ],
   "source": [
    "start_index = len(X)\n",
    "end_index = start_index + 3\n",
    "forecast = model_fit.predict(start=start_index, end=end_index, typ='levels')\n",
    "print(forecast)"
   ]
  },
  {
   "cell_type": "code",
   "execution_count": 102,
   "metadata": {},
   "outputs": [],
   "source": [
    "dataframe['Rainfall_mm']=pd.DataFrame(forecast.values)"
   ]
  },
  {
   "cell_type": "markdown",
   "metadata": {},
   "source": [
    "## Predicting MIN.TEM"
   ]
  },
  {
   "cell_type": "code",
   "execution_count": 103,
   "metadata": {},
   "outputs": [
    {
     "data": {
      "text/plain": [
       "YEAR\n",
       "2014-01-01    24\n",
       "2015-01-01    25\n",
       "2016-01-01    25\n",
       "2017-01-01    25\n",
       "2018-01-01    25\n",
       "Name: MIN.TEM, dtype: int64"
      ]
     },
     "execution_count": 103,
     "metadata": {},
     "output_type": "execute_result"
    }
   ],
   "source": [
    "ts2 = data['MIN.TEM']\n",
    "ts2.head(10)"
   ]
  },
  {
   "cell_type": "code",
   "execution_count": 104,
   "metadata": {},
   "outputs": [
    {
     "name": "stdout",
     "output_type": "stream",
     "text": [
      "2019-01-01    25.25\n",
      "Freq: AS-JAN, dtype: float64\n"
     ]
    }
   ],
   "source": [
    "X = ts2.astype('float32')\n",
    "model = ARIMA(X, order=(0,1,0))\n",
    "model_fit = model.fit(disp=False)\n",
    "# make prediction\n",
    "yhat = model_fit.predict(len(X), len(X), typ='levels')\n",
    "print(yhat)"
   ]
  },
  {
   "cell_type": "code",
   "execution_count": 105,
   "metadata": {},
   "outputs": [
    {
     "name": "stdout",
     "output_type": "stream",
     "text": [
      "2019-01-01    25.25\n",
      "2020-01-01    25.50\n",
      "2021-01-01    25.75\n",
      "2022-01-01    26.00\n",
      "Freq: AS-JAN, dtype: float64\n"
     ]
    }
   ],
   "source": [
    "start_index = len(X)\n",
    "end_index = start_index + 3\n",
    "forecast = model_fit.predict(start=start_index, end=end_index, typ='levels')\n",
    "print(forecast)"
   ]
  },
  {
   "cell_type": "code",
   "execution_count": 106,
   "metadata": {},
   "outputs": [],
   "source": [
    "dataframe['MIN.TEM']=pd.DataFrame(forecast.values)"
   ]
  },
  {
   "cell_type": "markdown",
   "metadata": {},
   "source": [
    "## Predicting Humidity"
   ]
  },
  {
   "cell_type": "code",
   "execution_count": 107,
   "metadata": {},
   "outputs": [
    {
     "data": {
      "text/plain": [
       "YEAR\n",
       "2014-01-01    80\n",
       "2015-01-01    79\n",
       "2016-01-01    80\n",
       "2017-01-01    80\n",
       "2018-01-01    80\n",
       "Name: Humidity, dtype: int64"
      ]
     },
     "execution_count": 107,
     "metadata": {},
     "output_type": "execute_result"
    }
   ],
   "source": [
    "ts3 = data['Humidity']\n",
    "ts3.head(10)"
   ]
  },
  {
   "cell_type": "code",
   "execution_count": 108,
   "metadata": {},
   "outputs": [
    {
     "name": "stdout",
     "output_type": "stream",
     "text": [
      "2019-01-01    80.0\n",
      "2020-01-01    80.0\n",
      "2021-01-01    80.0\n",
      "2022-01-01    80.0\n",
      "Freq: AS-JAN, dtype: float64\n"
     ]
    }
   ],
   "source": [
    "X = ts3.astype('float32')\n",
    "model = ARIMA(X, order=(0,1,0))\n",
    "model_fit = model.fit(disp=False)\n",
    "start_index = len(X)\n",
    "end_index = start_index + 3\n",
    "forecast = model_fit.predict(start=start_index, end=end_index, typ='levels')\n",
    "print(forecast)"
   ]
  },
  {
   "cell_type": "code",
   "execution_count": 109,
   "metadata": {},
   "outputs": [],
   "source": [
    "dataframe['Humidity']=pd.DataFrame(forecast.values)"
   ]
  },
  {
   "cell_type": "markdown",
   "metadata": {},
   "source": [
    "## Predicting Dengue_Cases"
   ]
  },
  {
   "cell_type": "code",
   "execution_count": 110,
   "metadata": {},
   "outputs": [
    {
     "data": {
      "text/plain": [
       "YEAR\n",
       "2014-01-01    192\n",
       "2015-01-01    318\n",
       "2016-01-01    446\n",
       "2017-01-01    510\n",
       "2018-01-01    181\n",
       "Name: Dengue_Cases, dtype: int64"
      ]
     },
     "execution_count": 110,
     "metadata": {},
     "output_type": "execute_result"
    }
   ],
   "source": [
    "ts4 = data['Dengue_Cases']\n",
    "ts4.head(10)"
   ]
  },
  {
   "cell_type": "code",
   "execution_count": 111,
   "metadata": {},
   "outputs": [
    {
     "name": "stdout",
     "output_type": "stream",
     "text": [
      "2019-01-01    178.25\n",
      "2020-01-01    175.50\n",
      "2021-01-01    172.75\n",
      "2022-01-01    170.00\n",
      "Freq: AS-JAN, dtype: float64\n"
     ]
    }
   ],
   "source": [
    "X = ts4.astype('float32')\n",
    "model = ARIMA(X, order=(0,1,0))\n",
    "model_fit = model.fit(disp=False)\n",
    "start_index = len(X)\n",
    "end_index = start_index + 3\n",
    "forecast = model_fit.predict(start=start_index, end=end_index, typ='levels')\n",
    "print(forecast)"
   ]
  },
  {
   "cell_type": "code",
   "execution_count": 112,
   "metadata": {},
   "outputs": [],
   "source": [
    "dataframe['Dengue_Cases']=pd.DataFrame(forecast.values)"
   ]
  },
  {
   "cell_type": "markdown",
   "metadata": {},
   "source": [
    "## Predicting Leptospirosis"
   ]
  },
  {
   "cell_type": "code",
   "execution_count": 113,
   "metadata": {},
   "outputs": [
    {
     "data": {
      "text/plain": [
       "YEAR\n",
       "2014-01-01    136\n",
       "2015-01-01    115\n",
       "2016-01-01     65\n",
       "2017-01-01     96\n",
       "2018-01-01     77\n",
       "Name: Leptospirosis, dtype: int64"
      ]
     },
     "execution_count": 113,
     "metadata": {},
     "output_type": "execute_result"
    }
   ],
   "source": [
    "ts5 = data['Leptospirosis']\n",
    "ts5.head(10)"
   ]
  },
  {
   "cell_type": "code",
   "execution_count": 114,
   "metadata": {},
   "outputs": [
    {
     "name": "stdout",
     "output_type": "stream",
     "text": [
      "2019-01-01    62.25\n",
      "2020-01-01    47.50\n",
      "2021-01-01    32.75\n",
      "2022-01-01    18.00\n",
      "Freq: AS-JAN, dtype: float64\n"
     ]
    }
   ],
   "source": [
    "X = ts5.astype('float32')\n",
    "model = ARIMA(X, order=(0,1,0))\n",
    "model_fit = model.fit(disp=False)\n",
    "start_index = len(X)\n",
    "end_index = start_index + 3\n",
    "forecast = model_fit.predict(start=start_index, end=end_index, typ='levels')\n",
    "print(forecast)"
   ]
  },
  {
   "cell_type": "code",
   "execution_count": 115,
   "metadata": {},
   "outputs": [],
   "source": [
    "dataframe['Leptospirosis']=pd.DataFrame(forecast.values)"
   ]
  },
  {
   "cell_type": "markdown",
   "metadata": {},
   "source": [
    "## Multivariate Time Series Forecasting"
   ]
  },
  {
   "cell_type": "code",
   "execution_count": 116,
   "metadata": {},
   "outputs": [],
   "source": [
    "data = read_excel(\"climatic_data_ekm.xlsx\")"
   ]
  },
  {
   "cell_type": "code",
   "execution_count": 117,
   "metadata": {},
   "outputs": [
    {
     "data": {
      "text/plain": [
       "DatetimeIndex(['2014-01-01', '2015-01-01', '2016-01-01', '2017-01-01',\n",
       "               '2018-01-01'],\n",
       "              dtype='datetime64[ns]', name='YEAR', freq=None)"
      ]
     },
     "execution_count": 117,
     "metadata": {},
     "output_type": "execute_result"
    }
   ],
   "source": [
    "data['YEAR']=pd.to_datetime(data['YEAR'], format = '%Y')\n",
    "data.set_index('YEAR', inplace=True)\n",
    "#check datatype of index\n",
    "data.index"
   ]
  },
  {
   "cell_type": "code",
   "execution_count": 118,
   "metadata": {},
   "outputs": [
    {
     "data": {
      "text/html": [
       "<div>\n",
       "<style scoped>\n",
       "    .dataframe tbody tr th:only-of-type {\n",
       "        vertical-align: middle;\n",
       "    }\n",
       "\n",
       "    .dataframe tbody tr th {\n",
       "        vertical-align: top;\n",
       "    }\n",
       "\n",
       "    .dataframe thead th {\n",
       "        text-align: right;\n",
       "    }\n",
       "</style>\n",
       "<table border=\"1\" class=\"dataframe\">\n",
       "  <thead>\n",
       "    <tr style=\"text-align: right;\">\n",
       "      <th></th>\n",
       "      <th>MAX.TEM</th>\n",
       "      <th>MIN.TEM</th>\n",
       "      <th>Rainfall_mm</th>\n",
       "      <th>Humidity</th>\n",
       "      <th>Dengue_Cases</th>\n",
       "      <th>Leptospirosis</th>\n",
       "    </tr>\n",
       "    <tr>\n",
       "      <th>YEAR</th>\n",
       "      <th></th>\n",
       "      <th></th>\n",
       "      <th></th>\n",
       "      <th></th>\n",
       "      <th></th>\n",
       "      <th></th>\n",
       "    </tr>\n",
       "  </thead>\n",
       "  <tbody>\n",
       "    <tr>\n",
       "      <th>2014-01-01</th>\n",
       "      <td>32</td>\n",
       "      <td>24</td>\n",
       "      <td>3604</td>\n",
       "      <td>80</td>\n",
       "      <td>192</td>\n",
       "      <td>136</td>\n",
       "    </tr>\n",
       "    <tr>\n",
       "      <th>2015-01-01</th>\n",
       "      <td>32</td>\n",
       "      <td>25</td>\n",
       "      <td>3436</td>\n",
       "      <td>79</td>\n",
       "      <td>318</td>\n",
       "      <td>115</td>\n",
       "    </tr>\n",
       "    <tr>\n",
       "      <th>2016-01-01</th>\n",
       "      <td>32</td>\n",
       "      <td>25</td>\n",
       "      <td>2891</td>\n",
       "      <td>80</td>\n",
       "      <td>446</td>\n",
       "      <td>65</td>\n",
       "    </tr>\n",
       "    <tr>\n",
       "      <th>2017-01-01</th>\n",
       "      <td>32</td>\n",
       "      <td>25</td>\n",
       "      <td>2325</td>\n",
       "      <td>80</td>\n",
       "      <td>510</td>\n",
       "      <td>96</td>\n",
       "    </tr>\n",
       "    <tr>\n",
       "      <th>2018-01-01</th>\n",
       "      <td>32</td>\n",
       "      <td>25</td>\n",
       "      <td>2919</td>\n",
       "      <td>80</td>\n",
       "      <td>181</td>\n",
       "      <td>77</td>\n",
       "    </tr>\n",
       "  </tbody>\n",
       "</table>\n",
       "</div>"
      ],
      "text/plain": [
       "            MAX.TEM  MIN.TEM  Rainfall_mm  Humidity  Dengue_Cases  \\\n",
       "YEAR                                                                \n",
       "2014-01-01       32       24         3604        80           192   \n",
       "2015-01-01       32       25         3436        79           318   \n",
       "2016-01-01       32       25         2891        80           446   \n",
       "2017-01-01       32       25         2325        80           510   \n",
       "2018-01-01       32       25         2919        80           181   \n",
       "\n",
       "            Leptospirosis  \n",
       "YEAR                       \n",
       "2014-01-01            136  \n",
       "2015-01-01            115  \n",
       "2016-01-01             65  \n",
       "2017-01-01             96  \n",
       "2018-01-01             77  "
      ]
     },
     "execution_count": 118,
     "metadata": {},
     "output_type": "execute_result"
    }
   ],
   "source": [
    "data.head()"
   ]
  },
  {
   "cell_type": "code",
   "execution_count": 119,
   "metadata": {},
   "outputs": [],
   "source": [
    "data = data.drop(['MAX.TEM'], axis=1)"
   ]
  },
  {
   "cell_type": "code",
   "execution_count": 120,
   "metadata": {},
   "outputs": [
    {
     "data": {
      "text/html": [
       "<div>\n",
       "<style scoped>\n",
       "    .dataframe tbody tr th:only-of-type {\n",
       "        vertical-align: middle;\n",
       "    }\n",
       "\n",
       "    .dataframe tbody tr th {\n",
       "        vertical-align: top;\n",
       "    }\n",
       "\n",
       "    .dataframe thead th {\n",
       "        text-align: right;\n",
       "    }\n",
       "</style>\n",
       "<table border=\"1\" class=\"dataframe\">\n",
       "  <thead>\n",
       "    <tr style=\"text-align: right;\">\n",
       "      <th></th>\n",
       "      <th>MIN.TEM</th>\n",
       "      <th>Rainfall_mm</th>\n",
       "      <th>Humidity</th>\n",
       "      <th>Dengue_Cases</th>\n",
       "      <th>Leptospirosis</th>\n",
       "    </tr>\n",
       "    <tr>\n",
       "      <th>YEAR</th>\n",
       "      <th></th>\n",
       "      <th></th>\n",
       "      <th></th>\n",
       "      <th></th>\n",
       "      <th></th>\n",
       "    </tr>\n",
       "  </thead>\n",
       "  <tbody>\n",
       "    <tr>\n",
       "      <th>2014-01-01</th>\n",
       "      <td>24</td>\n",
       "      <td>3604</td>\n",
       "      <td>80</td>\n",
       "      <td>192</td>\n",
       "      <td>136</td>\n",
       "    </tr>\n",
       "    <tr>\n",
       "      <th>2015-01-01</th>\n",
       "      <td>25</td>\n",
       "      <td>3436</td>\n",
       "      <td>79</td>\n",
       "      <td>318</td>\n",
       "      <td>115</td>\n",
       "    </tr>\n",
       "    <tr>\n",
       "      <th>2016-01-01</th>\n",
       "      <td>25</td>\n",
       "      <td>2891</td>\n",
       "      <td>80</td>\n",
       "      <td>446</td>\n",
       "      <td>65</td>\n",
       "    </tr>\n",
       "    <tr>\n",
       "      <th>2017-01-01</th>\n",
       "      <td>25</td>\n",
       "      <td>2325</td>\n",
       "      <td>80</td>\n",
       "      <td>510</td>\n",
       "      <td>96</td>\n",
       "    </tr>\n",
       "    <tr>\n",
       "      <th>2018-01-01</th>\n",
       "      <td>25</td>\n",
       "      <td>2919</td>\n",
       "      <td>80</td>\n",
       "      <td>181</td>\n",
       "      <td>77</td>\n",
       "    </tr>\n",
       "  </tbody>\n",
       "</table>\n",
       "</div>"
      ],
      "text/plain": [
       "            MIN.TEM  Rainfall_mm  Humidity  Dengue_Cases  Leptospirosis\n",
       "YEAR                                                                   \n",
       "2014-01-01       24         3604        80           192            136\n",
       "2015-01-01       25         3436        79           318            115\n",
       "2016-01-01       25         2891        80           446             65\n",
       "2017-01-01       25         2325        80           510             96\n",
       "2018-01-01       25         2919        80           181             77"
      ]
     },
     "execution_count": 120,
     "metadata": {},
     "output_type": "execute_result"
    }
   ],
   "source": [
    "data.head()"
   ]
  },
  {
   "cell_type": "code",
   "execution_count": 121,
   "metadata": {},
   "outputs": [
    {
     "data": {
      "text/plain": [
       "MIN.TEM          int64\n",
       "Rainfall_mm      int64\n",
       "Humidity         int64\n",
       "Dengue_Cases     int64\n",
       "Leptospirosis    int64\n",
       "dtype: object"
      ]
     },
     "execution_count": 121,
     "metadata": {},
     "output_type": "execute_result"
    }
   ],
   "source": [
    "data.dtypes"
   ]
  },
  {
   "cell_type": "code",
   "execution_count": 122,
   "metadata": {},
   "outputs": [],
   "source": [
    "from statsmodels.tsa.vector_ar.var_model import VAR"
   ]
  },
  {
   "cell_type": "code",
   "execution_count": 123,
   "metadata": {},
   "outputs": [],
   "source": [
    "model = VAR(endog=data)\n",
    "model_fit = model.fit()"
   ]
  },
  {
   "cell_type": "code",
   "execution_count": 124,
   "metadata": {},
   "outputs": [
    {
     "name": "stdout",
     "output_type": "stream",
     "text": [
      "[[  24.0979888  3177.55343412   74.47730561  250.11875185  249.71606565]]\n"
     ]
    }
   ],
   "source": [
    "yhat = model_fit.forecast(model_fit.y, steps=1)\n",
    "print(yhat)"
   ]
  },
  {
   "cell_type": "code",
   "execution_count": null,
   "metadata": {},
   "outputs": [],
   "source": []
  },
  {
   "cell_type": "code",
   "execution_count": 125,
   "metadata": {},
   "outputs": [
    {
     "data": {
      "text/html": [
       "<div>\n",
       "<style scoped>\n",
       "    .dataframe tbody tr th:only-of-type {\n",
       "        vertical-align: middle;\n",
       "    }\n",
       "\n",
       "    .dataframe tbody tr th {\n",
       "        vertical-align: top;\n",
       "    }\n",
       "\n",
       "    .dataframe thead th {\n",
       "        text-align: right;\n",
       "    }\n",
       "</style>\n",
       "<table border=\"1\" class=\"dataframe\">\n",
       "  <thead>\n",
       "    <tr style=\"text-align: right;\">\n",
       "      <th></th>\n",
       "      <th>YEAR</th>\n",
       "      <th>MAX.TEM</th>\n",
       "      <th>Rainfall_mm</th>\n",
       "      <th>MIN.TEM</th>\n",
       "      <th>Humidity</th>\n",
       "      <th>Dengue_Cases</th>\n",
       "      <th>Leptospirosis</th>\n",
       "    </tr>\n",
       "  </thead>\n",
       "  <tbody>\n",
       "    <tr>\n",
       "      <th>0</th>\n",
       "      <td>2019-01-01</td>\n",
       "      <td>32.0</td>\n",
       "      <td>2747.75</td>\n",
       "      <td>25.25</td>\n",
       "      <td>80.0</td>\n",
       "      <td>178.25</td>\n",
       "      <td>62.25</td>\n",
       "    </tr>\n",
       "    <tr>\n",
       "      <th>1</th>\n",
       "      <td>2020-01-01</td>\n",
       "      <td>32.0</td>\n",
       "      <td>2576.50</td>\n",
       "      <td>25.50</td>\n",
       "      <td>80.0</td>\n",
       "      <td>175.50</td>\n",
       "      <td>47.50</td>\n",
       "    </tr>\n",
       "    <tr>\n",
       "      <th>2</th>\n",
       "      <td>2021-01-01</td>\n",
       "      <td>32.0</td>\n",
       "      <td>2405.25</td>\n",
       "      <td>25.75</td>\n",
       "      <td>80.0</td>\n",
       "      <td>172.75</td>\n",
       "      <td>32.75</td>\n",
       "    </tr>\n",
       "    <tr>\n",
       "      <th>3</th>\n",
       "      <td>2022-01-01</td>\n",
       "      <td>32.0</td>\n",
       "      <td>2234.00</td>\n",
       "      <td>26.00</td>\n",
       "      <td>80.0</td>\n",
       "      <td>170.00</td>\n",
       "      <td>18.00</td>\n",
       "    </tr>\n",
       "  </tbody>\n",
       "</table>\n",
       "</div>"
      ],
      "text/plain": [
       "        YEAR  MAX.TEM  Rainfall_mm  MIN.TEM  Humidity  Dengue_Cases  \\\n",
       "0 2019-01-01     32.0      2747.75    25.25      80.0        178.25   \n",
       "1 2020-01-01     32.0      2576.50    25.50      80.0        175.50   \n",
       "2 2021-01-01     32.0      2405.25    25.75      80.0        172.75   \n",
       "3 2022-01-01     32.0      2234.00    26.00      80.0        170.00   \n",
       "\n",
       "   Leptospirosis  \n",
       "0          62.25  \n",
       "1          47.50  \n",
       "2          32.75  \n",
       "3          18.00  "
      ]
     },
     "execution_count": 125,
     "metadata": {},
     "output_type": "execute_result"
    }
   ],
   "source": [
    "dataframe.head()"
   ]
  },
  {
   "cell_type": "code",
   "execution_count": null,
   "metadata": {},
   "outputs": [],
   "source": []
  },
  {
   "cell_type": "markdown",
   "metadata": {},
   "source": [
    "## Visualization"
   ]
  },
  {
   "cell_type": "code",
   "execution_count": 128,
   "metadata": {},
   "outputs": [],
   "source": [
    "from string import ascii_letters\n",
    "import seaborn as sns"
   ]
  },
  {
   "cell_type": "code",
   "execution_count": 129,
   "metadata": {},
   "outputs": [
    {
     "data": {
      "text/plain": [
       "<matplotlib.axes._subplots.AxesSubplot at 0x1c581655a60>"
      ]
     },
     "execution_count": 129,
     "metadata": {},
     "output_type": "execute_result"
    },
    {
     "data": {
      "image/png": "[encoded data removed]",
      "text/plain": [
       "<Figure size 792x648 with 2 Axes>"
      ]
     },
     "metadata": {},
     "output_type": "display_data"
    }
   ],
   "source": [
    "sns.set(style=\"white\")\n",
    "\n",
    "# Generate a large random dataset\n",
    "#rs = np.random.RandomState(33)\n",
    "#d = pd.DataFrame(data=rs.normal(size=(100, 26)),columns=list(ascii_letters[26:]))\n",
    "\n",
    "\n",
    "# Compute the correlation matrix\n",
    "corr = dfa.corr()\n",
    "\n",
    "# Generate a mask for the upper triangle\n",
    "mask = np.triu(np.ones_like(corr, dtype=np.bool))\n",
    "\n",
    "# Set up the matplotlib figure\n",
    "f, ax = plt.subplots(figsize=(11, 9))\n",
    "\n",
    "# Generate a custom diverging colormap\n",
    "cmap = sns.diverging_palette(220, 10, as_cmap=True)\n",
    "\n",
    "# Draw the heatmap with the mask and correct aspect ratio\n",
    "sns.heatmap(corr, mask=mask, cmap=cmap, vmax=.3, center=0,\n",
    "            square=True, linewidths=.5, cbar_kws={\"shrink\": .5})"
   ]
  },
  {
   "cell_type": "code",
   "execution_count": 131,
   "metadata": {},
   "outputs": [
    {
     "data": {
      "image/png": "[encoded data removed]",
      "text/plain": [
       "<Figure size 432x288 with 2 Axes>"
      ]
     },
     "metadata": {},
     "output_type": "display_data"
    }
   ],
   "source": [
    "corrMatrix = dfa.corr()\n",
    "sns.heatmap(corrMatrix, annot=True)\n",
    "plt.show()"
   ]
  },
  {
   "cell_type": "code",
   "execution_count": 141,
   "metadata": {},
   "outputs": [
    {
     "data": {
      "text/html": [
       "<div>\n",
       "<style scoped>\n",
       "    .dataframe tbody tr th:only-of-type {\n",
       "        vertical-align: middle;\n",
       "    }\n",
       "\n",
       "    .dataframe tbody tr th {\n",
       "        vertical-align: top;\n",
       "    }\n",
       "\n",
       "    .dataframe thead th {\n",
       "        text-align: right;\n",
       "    }\n",
       "</style>\n",
       "<table border=\"1\" class=\"dataframe\">\n",
       "  <thead>\n",
       "    <tr style=\"text-align: right;\">\n",
       "      <th></th>\n",
       "      <th>MAX.TEM</th>\n",
       "      <th>MIN.TEM</th>\n",
       "      <th>Rainfall_mm</th>\n",
       "      <th>Humidity</th>\n",
       "      <th>Dengue_Cases</th>\n",
       "      <th>Leptospirosis</th>\n",
       "    </tr>\n",
       "  </thead>\n",
       "  <tbody>\n",
       "    <tr>\n",
       "      <th>count</th>\n",
       "      <td>5.0</td>\n",
       "      <td>5.000000</td>\n",
       "      <td>5.000000</td>\n",
       "      <td>5.000000</td>\n",
       "      <td>5.000000</td>\n",
       "      <td>5.000000</td>\n",
       "    </tr>\n",
       "    <tr>\n",
       "      <th>mean</th>\n",
       "      <td>32.0</td>\n",
       "      <td>24.800000</td>\n",
       "      <td>3035.000000</td>\n",
       "      <td>79.800000</td>\n",
       "      <td>329.400000</td>\n",
       "      <td>97.800000</td>\n",
       "    </tr>\n",
       "    <tr>\n",
       "      <th>std</th>\n",
       "      <td>0.0</td>\n",
       "      <td>0.447214</td>\n",
       "      <td>505.681224</td>\n",
       "      <td>0.447214</td>\n",
       "      <td>147.684799</td>\n",
       "      <td>28.577964</td>\n",
       "    </tr>\n",
       "    <tr>\n",
       "      <th>min</th>\n",
       "      <td>32.0</td>\n",
       "      <td>24.000000</td>\n",
       "      <td>2325.000000</td>\n",
       "      <td>79.000000</td>\n",
       "      <td>181.000000</td>\n",
       "      <td>65.000000</td>\n",
       "    </tr>\n",
       "    <tr>\n",
       "      <th>25%</th>\n",
       "      <td>32.0</td>\n",
       "      <td>25.000000</td>\n",
       "      <td>2891.000000</td>\n",
       "      <td>80.000000</td>\n",
       "      <td>192.000000</td>\n",
       "      <td>77.000000</td>\n",
       "    </tr>\n",
       "    <tr>\n",
       "      <th>50%</th>\n",
       "      <td>32.0</td>\n",
       "      <td>25.000000</td>\n",
       "      <td>2919.000000</td>\n",
       "      <td>80.000000</td>\n",
       "      <td>318.000000</td>\n",
       "      <td>96.000000</td>\n",
       "    </tr>\n",
       "    <tr>\n",
       "      <th>75%</th>\n",
       "      <td>32.0</td>\n",
       "      <td>25.000000</td>\n",
       "      <td>3436.000000</td>\n",
       "      <td>80.000000</td>\n",
       "      <td>446.000000</td>\n",
       "      <td>115.000000</td>\n",
       "    </tr>\n",
       "    <tr>\n",
       "      <th>max</th>\n",
       "      <td>32.0</td>\n",
       "      <td>25.000000</td>\n",
       "      <td>3604.000000</td>\n",
       "      <td>80.000000</td>\n",
       "      <td>510.000000</td>\n",
       "      <td>136.000000</td>\n",
       "    </tr>\n",
       "  </tbody>\n",
       "</table>\n",
       "</div>"
      ],
      "text/plain": [
       "       MAX.TEM    MIN.TEM  Rainfall_mm   Humidity  Dengue_Cases  Leptospirosis\n",
       "count      5.0   5.000000     5.000000   5.000000      5.000000       5.000000\n",
       "mean      32.0  24.800000  3035.000000  79.800000    329.400000      97.800000\n",
       "std        0.0   0.447214   505.681224   0.447214    147.684799      28.577964\n",
       "min       32.0  24.000000  2325.000000  79.000000    181.000000      65.000000\n",
       "25%       32.0  25.000000  2891.000000  80.000000    192.000000      77.000000\n",
       "50%       32.0  25.000000  2919.000000  80.000000    318.000000      96.000000\n",
       "75%       32.0  25.000000  3436.000000  80.000000    446.000000     115.000000\n",
       "max       32.0  25.000000  3604.000000  80.000000    510.000000     136.000000"
      ]
     },
     "execution_count": 141,
     "metadata": {},
     "output_type": "execute_result"
    }
   ],
   "source": [
    "dfa.iloc[:, 1:].describe()"
   ]
  },
  {
   "cell_type": "code",
   "execution_count": 142,
   "metadata": {},
   "outputs": [
    {
     "data": {
      "text/plain": [
       "<matplotlib.axes._subplots.AxesSubplot at 0x1c58180f550>"
      ]
     },
     "execution_count": 142,
     "metadata": {},
     "output_type": "execute_result"
    },
    {
     "data": {
      "image/png": "[encoded data removed]",
      "text/plain": [
       "<Figure size 432x288 with 1 Axes>"
      ]
     },
     "metadata": {},
     "output_type": "display_data"
    }
   ],
   "source": [
    "sns.scatterplot(x='Rainfall_mm',y='Dengue_Cases',data=dfa)"
   ]
  },
  {
   "cell_type": "code",
   "execution_count": 143,
   "metadata": {},
   "outputs": [
    {
     "data": {
      "text/plain": [
       "<matplotlib.axes._subplots.AxesSubplot at 0x1c58189e130>"
      ]
     },
     "execution_count": 143,
     "metadata": {},
     "output_type": "execute_result"
    },
    {
     "data": {
      "image/png": "[encoded data removed]",
      "text/plain": [
       "<Figure size 432x288 with 1 Axes>"
      ]
     },
     "metadata": {},
     "output_type": "display_data"
    }
   ],
   "source": [
    "sns.scatterplot(x='Rainfall_mm',y='Leptospirosis',data=dfa)"
   ]
  },
  {
   "cell_type": "code",
   "execution_count": 144,
   "metadata": {},
   "outputs": [
    {
     "data": {
      "image/png": "[encoded data removed]",
      "text/plain": [
       "<Figure size 360x360 with 1 Axes>"
      ]
     },
     "metadata": {},
     "output_type": "display_data"
    }
   ],
   "source": [
    "g = sns.relplot(x=\"YEAR\", y=\"Dengue_Cases\", kind=\"line\", data=dfa)\n",
    "g.fig.autofmt_xdate()"
   ]
  },
  {
   "cell_type": "code",
   "execution_count": 145,
   "metadata": {},
   "outputs": [
    {
     "data": {
      "image/png": "[encoded data removed]",
      "text/plain": [
       "<Figure size 360x360 with 1 Axes>"
      ]
     },
     "metadata": {},
     "output_type": "display_data"
    }
   ],
   "source": [
    "g = sns.relplot(x=\"YEAR\", y=\"Leptospirosis\", kind=\"line\", data=dfa)\n",
    "g.fig.autofmt_xdate()"
   ]
  },
  {
   "cell_type": "code",
   "execution_count": null,
   "metadata": {},
   "outputs": [],
   "source": []
  }
 ],
 "metadata": {
  "kernelspec": {
   "display_name": "Python 3",
   "language": "python",
   "name": "python3"
  },
  "language_info": {
   "codemirror_mode": {
    "name": "ipython",
    "version": 3
   },
   "file_extension": ".py",
   "mimetype": "text/x-python",
   "name": "python",
   "nbconvert_exporter": "python",
   "pygments_lexer": "ipython3",
   "version": "3.8.3"
  }
 },
 "nbformat": 4,
 "nbformat_minor": 4
}
