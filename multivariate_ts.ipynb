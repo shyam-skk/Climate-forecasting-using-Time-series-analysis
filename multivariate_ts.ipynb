{
 "cells": [
  {
   "cell_type": "code",
   "execution_count": 2,
   "metadata": {},
   "outputs": [],
   "source": [
    "import pandas as pd\n",
    "from pandas import read_excel\n",
    "import numpy as np\n",
    "import matplotlib.pylab as plt\n",
    "import matplotlib.pyplot\n",
    "%matplotlib inline\n",
    "import warnings\n",
    "warnings.filterwarnings(\"ignore\")\n",
    "from string import ascii_letters\n",
    "import seaborn as sns\n",
    "from datetime import datetime\n",
    "import statsmodels.api as sm\n",
    "from statsmodels.tsa.api import VAR"
   ]
  },
  {
   "cell_type": "code",
   "execution_count": 3,
   "metadata": {},
   "outputs": [
    {
     "name": "stdout",
     "output_type": "stream",
     "text": [
      "48\n",
      "12\n",
      "            max_temp  min_temp  rainfall(mm)  humidity  dengue  Leptospirosis\n",
      "year                                                                         \n",
      "2014-01-01      32.8      22.2         0.000     67.75       1              0\n",
      "2014-02-01      32.8      22.8         7.650     71.25       0              0\n",
      "2014-03-01      34.1      24.2        27.670     72.37       0              0\n",
      "2014-04-01      34.3      25.7       100.375     77.25       5              0\n",
      "2014-05-01      33.9      25.3       290.120     79.12      28              0\n"
     ]
    }
   ],
   "source": [
    "data = read_excel(\"monthly_data.xlsx\")\n",
    "dfa = pd.read_excel (r'monthly_data.xlsx')\n",
    "\n",
    "data['year']=pd.to_datetime(data['year'], format = '%Y-%m')\n",
    "data.set_index('year', inplace=True)\n",
    "cols = data.columns\n",
    "train_size = int(len(data) * 0.8)\n",
    "df_train, df_test = data[0:train_size], data[train_size:]\n",
    "\n",
    "print(len(df_train))\n",
    "print(len(df_test))\n",
    "print(data.head())"
   ]
  },
  {
   "cell_type": "code",
   "execution_count": null,
   "metadata": {},
   "outputs": [],
   "source": []
  },
  {
   "cell_type": "code",
   "execution_count": 4,
   "metadata": {},
   "outputs": [
    {
     "data": {
      "text/plain": [
       "array([5.95020960e-01, 4.67640257e-01, 3.63565519e-01, 2.32856432e-01,\n",
       "       2.56061417e-06])"
      ]
     },
     "execution_count": 4,
     "metadata": {},
     "output_type": "execute_result"
    }
   ],
   "source": [
    "from statsmodels.tsa.vector_ar.vecm import coint_johansen\n",
    "#since the test works for only 12 variables, I have randomly dropped\n",
    "#in the next iteration, I would drop another and check the eigenvalues\n",
    "johan_test_temp = data.drop([ 'max_temp'], axis=1)\n",
    "coint_johansen(johan_test_temp,-1,1).eig"
   ]
  },
  {
   "cell_type": "code",
   "execution_count": 5,
   "metadata": {},
   "outputs": [
    {
     "name": "stderr",
     "output_type": "stream",
     "text": [
      "C:\\Users\\Public\\anaconda3\\envs\\machine_learning\\lib\\site-packages\\statsmodels\\tsa\\base\\tsa_model.py:159: ValueWarning: No frequency information was provided, so inferred frequency MS will be used.\n",
      "  warnings.warn('No frequency information was'\n"
     ]
    }
   ],
   "source": [
    "from statsmodels.tsa.vector_ar.var_model import VAR\n",
    "model = VAR(endog=df_train)\n",
    "model_fit = model.fit()"
   ]
  },
  {
   "cell_type": "code",
   "execution_count": 6,
   "metadata": {},
   "outputs": [],
   "source": [
    "# make prediction on validation\n",
    "prediction = model_fit.forecast(model_fit.y, steps=len(df_test))"
   ]
  },
  {
   "cell_type": "code",
   "execution_count": 7,
   "metadata": {},
   "outputs": [
    {
     "name": "stdout",
     "output_type": "stream",
     "text": [
      "[[ 3.22266251e+01  2.38367190e+01  1.58869888e+01  7.43696465e+01\n",
      "   4.45376557e+00 -1.21607303e+00]\n",
      " [ 3.26583136e+01  2.43668223e+01  2.18941295e+01  7.37491441e+01\n",
      "  -2.10028422e+00 -2.23194208e+00]\n",
      " [ 3.28488976e+01  2.47212382e+01  6.63810793e+01  7.44592951e+01\n",
      "   1.15302567e+00 -2.10877451e+00]\n",
      " [ 3.28003252e+01  2.48897832e+01  1.31846643e+02  7.58629121e+01\n",
      "   1.05167908e+01 -2.39695007e-01]\n",
      " [ 3.25969512e+01  2.49242097e+01  1.97515096e+02  7.74223185e+01\n",
      "   2.11683960e+01  2.68995284e+00]\n",
      " [ 3.23348843e+01  2.48807281e+01  2.49745599e+02  7.87751145e+01\n",
      "   3.00350954e+01  5.69402926e+00]\n",
      " [ 3.20866709e+01  2.48027363e+01  2.83310041e+02  7.97404880e+01\n",
      "   3.58739256e+01  8.08447102e+00]\n",
      " [ 3.18935317e+01  2.47195865e+01  2.98984868e+02  8.02825723e+01\n",
      "   3.86688523e+01  9.58637351e+00]\n",
      " [ 3.17699642e+01  2.46488984e+01  3.00744396e+02  8.04597022e+01\n",
      "   3.90414500e+01  1.02331439e+01]\n",
      " [ 3.17119462e+01  2.45989899e+01  2.93619127e+02  8.03764048e+01\n",
      "   3.78369390e+01  1.02228668e+01]\n",
      " [ 3.17050358e+01  2.45712276e+01  2.82326297e+02  8.01459851e+01\n",
      "   3.58693970e+01  9.80539755e+00]\n",
      " [ 3.17310111e+01  2.45624234e+01  2.70534532e+02  7.98661373e+01\n",
      "   3.37842009e+01  9.21147089e+00]]\n"
     ]
    },
    {
     "name": "stderr",
     "output_type": "stream",
     "text": [
      "C:\\Users\\Public\\anaconda3\\envs\\machine_learning\\lib\\site-packages\\statsmodels\\tsa\\base\\tsa_model.py:159: ValueWarning: No frequency information was provided, so inferred frequency MS will be used.\n",
      "  warnings.warn('No frequency information was'\n"
     ]
    }
   ],
   "source": [
    "#make final predictions\n",
    "model = VAR(endog=data)\n",
    "model_fit = model.fit()\n",
    "yhat = model_fit.forecast(model_fit.y, steps=12)\n",
    "print(yhat)"
   ]
  },
  {
   "cell_type": "code",
   "execution_count": 8,
   "metadata": {},
   "outputs": [
    {
     "data": {
      "text/plain": [
       "array([[ 33.,  24.,  16.,  75.,   5.,   0.],\n",
       "       [ 33.,  25.,  22.,  74.,   0.,   0.],\n",
       "       [ 33.,  25.,  67.,  75.,   2.,   0.],\n",
       "       [ 33.,  25., 132.,  76.,  11.,   0.],\n",
       "       [ 33.,  25., 198.,  78.,  22.,   3.],\n",
       "       [ 33.,  25., 250.,  79.,  31.,   6.],\n",
       "       [ 33.,  25., 284.,  80.,  36.,   9.],\n",
       "       [ 32.,  25., 299.,  81.,  39.,  10.],\n",
       "       [ 32.,  25., 301.,  81.,  40.,  11.],\n",
       "       [ 32.,  25., 294.,  81.,  38.,  11.],\n",
       "       [ 32.,  25., 283.,  81.,  36.,  10.],\n",
       "       [ 32.,  25., 271.,  80.,  34.,  10.]])"
      ]
     },
     "execution_count": 8,
     "metadata": {},
     "output_type": "execute_result"
    }
   ],
   "source": [
    "yhat[yhat<0] = 0\n",
    "new_arr1 = np.ceil(yhat)\n",
    "new_arr1"
   ]
  },
  {
   "cell_type": "code",
   "execution_count": 9,
   "metadata": {},
   "outputs": [],
   "source": [
    "COLUMN_NAMES=['year','max_temp','min_temp','rainfall','humidity','dengue','Leptospirosis']\n",
    "mvts_df = pd.DataFrame(columns=COLUMN_NAMES)"
   ]
  },
  {
   "cell_type": "code",
   "execution_count": 10,
   "metadata": {},
   "outputs": [
    {
     "data": {
      "text/html": [
       "<div>\n",
       "<style scoped>\n",
       "    .dataframe tbody tr th:only-of-type {\n",
       "        vertical-align: middle;\n",
       "    }\n",
       "\n",
       "    .dataframe tbody tr th {\n",
       "        vertical-align: top;\n",
       "    }\n",
       "\n",
       "    .dataframe thead th {\n",
       "        text-align: right;\n",
       "    }\n",
       "</style>\n",
       "<table border=\"1\" class=\"dataframe\">\n",
       "  <thead>\n",
       "    <tr style=\"text-align: right;\">\n",
       "      <th></th>\n",
       "      <th>0</th>\n",
       "      <th>1</th>\n",
       "      <th>2</th>\n",
       "      <th>3</th>\n",
       "      <th>4</th>\n",
       "      <th>5</th>\n",
       "    </tr>\n",
       "  </thead>\n",
       "  <tbody>\n",
       "    <tr>\n",
       "      <th>0</th>\n",
       "      <td>33.0</td>\n",
       "      <td>24.0</td>\n",
       "      <td>16.0</td>\n",
       "      <td>75.0</td>\n",
       "      <td>5.0</td>\n",
       "      <td>0.0</td>\n",
       "    </tr>\n",
       "    <tr>\n",
       "      <th>1</th>\n",
       "      <td>33.0</td>\n",
       "      <td>25.0</td>\n",
       "      <td>22.0</td>\n",
       "      <td>74.0</td>\n",
       "      <td>0.0</td>\n",
       "      <td>0.0</td>\n",
       "    </tr>\n",
       "    <tr>\n",
       "      <th>2</th>\n",
       "      <td>33.0</td>\n",
       "      <td>25.0</td>\n",
       "      <td>67.0</td>\n",
       "      <td>75.0</td>\n",
       "      <td>2.0</td>\n",
       "      <td>0.0</td>\n",
       "    </tr>\n",
       "    <tr>\n",
       "      <th>3</th>\n",
       "      <td>33.0</td>\n",
       "      <td>25.0</td>\n",
       "      <td>132.0</td>\n",
       "      <td>76.0</td>\n",
       "      <td>11.0</td>\n",
       "      <td>0.0</td>\n",
       "    </tr>\n",
       "    <tr>\n",
       "      <th>4</th>\n",
       "      <td>33.0</td>\n",
       "      <td>25.0</td>\n",
       "      <td>198.0</td>\n",
       "      <td>78.0</td>\n",
       "      <td>22.0</td>\n",
       "      <td>3.0</td>\n",
       "    </tr>\n",
       "  </tbody>\n",
       "</table>\n",
       "</div>"
      ],
      "text/plain": [
       "      0     1      2     3     4    5\n",
       "0  33.0  24.0   16.0  75.0   5.0  0.0\n",
       "1  33.0  25.0   22.0  74.0   0.0  0.0\n",
       "2  33.0  25.0   67.0  75.0   2.0  0.0\n",
       "3  33.0  25.0  132.0  76.0  11.0  0.0\n",
       "4  33.0  25.0  198.0  78.0  22.0  3.0"
      ]
     },
     "execution_count": 10,
     "metadata": {},
     "output_type": "execute_result"
    }
   ],
   "source": [
    "psudo_df=pd.DataFrame(new_arr1)\n",
    "psudo_df.head()"
   ]
  },
  {
   "cell_type": "code",
   "execution_count": 11,
   "metadata": {},
   "outputs": [
    {
     "data": {
      "text/plain": [
       "[0, 1, 2, 3, 4, 5]"
      ]
     },
     "execution_count": 11,
     "metadata": {},
     "output_type": "execute_result"
    }
   ],
   "source": [
    "list(psudo_df.columns)"
   ]
  },
  {
   "cell_type": "code",
   "execution_count": 12,
   "metadata": {},
   "outputs": [],
   "source": [
    "d = pd.date_range(start='1/1/2019', end='12/1/2019', freq='MS')"
   ]
  },
  {
   "cell_type": "code",
   "execution_count": 13,
   "metadata": {},
   "outputs": [],
   "source": [
    "mvts_df['year']=d\n",
    "mvts_df['max_temp']=psudo_df[0]\n",
    "mvts_df['min_temp']=psudo_df[1]\n",
    "mvts_df['rainfall']=psudo_df[2]\n",
    "mvts_df['humidity']=psudo_df[3]\n",
    "mvts_df['dengue']=psudo_df[4]\n",
    "mvts_df['Leptospirosis']=psudo_df[5]"
   ]
  },
  {
   "cell_type": "code",
   "execution_count": 14,
   "metadata": {},
   "outputs": [
    {
     "data": {
      "text/html": [
       "<div>\n",
       "<style scoped>\n",
       "    .dataframe tbody tr th:only-of-type {\n",
       "        vertical-align: middle;\n",
       "    }\n",
       "\n",
       "    .dataframe tbody tr th {\n",
       "        vertical-align: top;\n",
       "    }\n",
       "\n",
       "    .dataframe thead th {\n",
       "        text-align: right;\n",
       "    }\n",
       "</style>\n",
       "<table border=\"1\" class=\"dataframe\">\n",
       "  <thead>\n",
       "    <tr style=\"text-align: right;\">\n",
       "      <th></th>\n",
       "      <th>year</th>\n",
       "      <th>max_temp</th>\n",
       "      <th>min_temp</th>\n",
       "      <th>rainfall</th>\n",
       "      <th>humidity</th>\n",
       "      <th>dengue</th>\n",
       "      <th>Leptospirosis</th>\n",
       "    </tr>\n",
       "  </thead>\n",
       "  <tbody>\n",
       "    <tr>\n",
       "      <th>0</th>\n",
       "      <td>2019-01-01</td>\n",
       "      <td>33.0</td>\n",
       "      <td>24.0</td>\n",
       "      <td>16.0</td>\n",
       "      <td>75.0</td>\n",
       "      <td>5.0</td>\n",
       "      <td>0.0</td>\n",
       "    </tr>\n",
       "    <tr>\n",
       "      <th>1</th>\n",
       "      <td>2019-02-01</td>\n",
       "      <td>33.0</td>\n",
       "      <td>25.0</td>\n",
       "      <td>22.0</td>\n",
       "      <td>74.0</td>\n",
       "      <td>0.0</td>\n",
       "      <td>0.0</td>\n",
       "    </tr>\n",
       "    <tr>\n",
       "      <th>2</th>\n",
       "      <td>2019-03-01</td>\n",
       "      <td>33.0</td>\n",
       "      <td>25.0</td>\n",
       "      <td>67.0</td>\n",
       "      <td>75.0</td>\n",
       "      <td>2.0</td>\n",
       "      <td>0.0</td>\n",
       "    </tr>\n",
       "    <tr>\n",
       "      <th>3</th>\n",
       "      <td>2019-04-01</td>\n",
       "      <td>33.0</td>\n",
       "      <td>25.0</td>\n",
       "      <td>132.0</td>\n",
       "      <td>76.0</td>\n",
       "      <td>11.0</td>\n",
       "      <td>0.0</td>\n",
       "    </tr>\n",
       "    <tr>\n",
       "      <th>4</th>\n",
       "      <td>2019-05-01</td>\n",
       "      <td>33.0</td>\n",
       "      <td>25.0</td>\n",
       "      <td>198.0</td>\n",
       "      <td>78.0</td>\n",
       "      <td>22.0</td>\n",
       "      <td>3.0</td>\n",
       "    </tr>\n",
       "    <tr>\n",
       "      <th>5</th>\n",
       "      <td>2019-06-01</td>\n",
       "      <td>33.0</td>\n",
       "      <td>25.0</td>\n",
       "      <td>250.0</td>\n",
       "      <td>79.0</td>\n",
       "      <td>31.0</td>\n",
       "      <td>6.0</td>\n",
       "    </tr>\n",
       "    <tr>\n",
       "      <th>6</th>\n",
       "      <td>2019-07-01</td>\n",
       "      <td>33.0</td>\n",
       "      <td>25.0</td>\n",
       "      <td>284.0</td>\n",
       "      <td>80.0</td>\n",
       "      <td>36.0</td>\n",
       "      <td>9.0</td>\n",
       "    </tr>\n",
       "    <tr>\n",
       "      <th>7</th>\n",
       "      <td>2019-08-01</td>\n",
       "      <td>32.0</td>\n",
       "      <td>25.0</td>\n",
       "      <td>299.0</td>\n",
       "      <td>81.0</td>\n",
       "      <td>39.0</td>\n",
       "      <td>10.0</td>\n",
       "    </tr>\n",
       "    <tr>\n",
       "      <th>8</th>\n",
       "      <td>2019-09-01</td>\n",
       "      <td>32.0</td>\n",
       "      <td>25.0</td>\n",
       "      <td>301.0</td>\n",
       "      <td>81.0</td>\n",
       "      <td>40.0</td>\n",
       "      <td>11.0</td>\n",
       "    </tr>\n",
       "    <tr>\n",
       "      <th>9</th>\n",
       "      <td>2019-10-01</td>\n",
       "      <td>32.0</td>\n",
       "      <td>25.0</td>\n",
       "      <td>294.0</td>\n",
       "      <td>81.0</td>\n",
       "      <td>38.0</td>\n",
       "      <td>11.0</td>\n",
       "    </tr>\n",
       "    <tr>\n",
       "      <th>10</th>\n",
       "      <td>2019-11-01</td>\n",
       "      <td>32.0</td>\n",
       "      <td>25.0</td>\n",
       "      <td>283.0</td>\n",
       "      <td>81.0</td>\n",
       "      <td>36.0</td>\n",
       "      <td>10.0</td>\n",
       "    </tr>\n",
       "    <tr>\n",
       "      <th>11</th>\n",
       "      <td>2019-12-01</td>\n",
       "      <td>32.0</td>\n",
       "      <td>25.0</td>\n",
       "      <td>271.0</td>\n",
       "      <td>80.0</td>\n",
       "      <td>34.0</td>\n",
       "      <td>10.0</td>\n",
       "    </tr>\n",
       "  </tbody>\n",
       "</table>\n",
       "</div>"
      ],
      "text/plain": [
       "         year  max_temp  min_temp  rainfall  humidity  dengue  Leptospirosis\n",
       "0  2019-01-01      33.0      24.0      16.0      75.0     5.0            0.0\n",
       "1  2019-02-01      33.0      25.0      22.0      74.0     0.0            0.0\n",
       "2  2019-03-01      33.0      25.0      67.0      75.0     2.0            0.0\n",
       "3  2019-04-01      33.0      25.0     132.0      76.0    11.0            0.0\n",
       "4  2019-05-01      33.0      25.0     198.0      78.0    22.0            3.0\n",
       "5  2019-06-01      33.0      25.0     250.0      79.0    31.0            6.0\n",
       "6  2019-07-01      33.0      25.0     284.0      80.0    36.0            9.0\n",
       "7  2019-08-01      32.0      25.0     299.0      81.0    39.0           10.0\n",
       "8  2019-09-01      32.0      25.0     301.0      81.0    40.0           11.0\n",
       "9  2019-10-01      32.0      25.0     294.0      81.0    38.0           11.0\n",
       "10 2019-11-01      32.0      25.0     283.0      81.0    36.0           10.0\n",
       "11 2019-12-01      32.0      25.0     271.0      80.0    34.0           10.0"
      ]
     },
     "execution_count": 14,
     "metadata": {},
     "output_type": "execute_result"
    }
   ],
   "source": [
    "mvts_df"
   ]
  },
  {
   "cell_type": "code",
   "execution_count": null,
   "metadata": {},
   "outputs": [],
   "source": []
  }
 ],
 "metadata": {
  "kernelspec": {
   "display_name": "Python 3",
   "language": "python",
   "name": "python3"
  },
  "language_info": {
   "codemirror_mode": {
    "name": "ipython",
    "version": 3
   },
   "file_extension": ".py",
   "mimetype": "text/x-python",
   "name": "python",
   "nbconvert_exporter": "python",
   "pygments_lexer": "ipython3",
   "version": "3.8.3"
  }
 },
 "nbformat": 4,
 "nbformat_minor": 4
}
